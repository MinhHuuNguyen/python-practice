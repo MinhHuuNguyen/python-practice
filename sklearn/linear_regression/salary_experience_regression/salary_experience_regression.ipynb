{
 "cells": [
  {
   "cell_type": "code",
   "execution_count": null,
   "id": "f606d924",
   "metadata": {},
   "outputs": [],
   "source": [
    "!python --version"
   ]
  },
  {
   "cell_type": "code",
   "execution_count": null,
   "id": "284441af",
   "metadata": {},
   "outputs": [],
   "source": [
    "%pip install numpy==2.2.0 pandas==2.2.3 seaborn==0.13.2 matplotlib==3.9.3 scikit-learn==1.6.0"
   ]
  },
  {
   "cell_type": "code",
   "execution_count": null,
   "id": "5c7f1582-cb99-43cf-ac8a-c02a8be97de3",
   "metadata": {},
   "outputs": [],
   "source": [
    "import numpy as np\n",
    "import pandas as pd\n",
    "import seaborn as sns\n",
    "import matplotlib.pyplot as plt\n",
    "from sklearn.linear_model import LinearRegression\n",
    "from sklearn.metrics import root_mean_squared_error, r2_score\n",
    "\n",
    "sns.set_theme()"
   ]
  },
  {
   "cell_type": "code",
   "execution_count": null,
   "id": "08c9841c-298e-409c-8601-941e04478efd",
   "metadata": {},
   "outputs": [],
   "source": [
    "df = pd.read_csv('data/salary_experience_dataset.csv')\n",
    "df"
   ]
  },
  {
   "cell_type": "code",
   "execution_count": null,
   "id": "481a8fb7-e60c-466a-b8ad-1e8522c2a557",
   "metadata": {},
   "outputs": [],
   "source": [
    "year_list = df.YearsExperience.to_list()\n",
    "salary_list = df.Salary.to_list()"
   ]
  },
  {
   "cell_type": "code",
   "execution_count": null,
   "id": "27fdbde4-ba03-40b4-8702-5f544a80b6a2",
   "metadata": {},
   "outputs": [],
   "source": [
    "plt.plot(year_list, salary_list, 'ro')\n",
    "plt.xlabel('Year')\n",
    "plt.ylabel('Salary')\n",
    "plt.show()"
   ]
  },
  {
   "cell_type": "code",
   "execution_count": null,
   "id": "be6d884e-0896-4275-a117-095f01f55d99",
   "metadata": {},
   "outputs": [],
   "source": [
    "X = np.expand_dims(np.array(year_list), axis=1)\n",
    "X.shape"
   ]
  },
  {
   "cell_type": "code",
   "execution_count": null,
   "id": "f45bc37a-903b-4569-a9e2-6598f2e2b503",
   "metadata": {},
   "outputs": [],
   "source": [
    "y = np.array(salary_list)\n",
    "y.shape"
   ]
  },
  {
   "cell_type": "code",
   "execution_count": null,
   "id": "656d6f1f-4d8b-4147-9945-6726edf43b91",
   "metadata": {},
   "outputs": [],
   "source": [
    "linear_regression_model = LinearRegression()\n",
    "linear_regression_model"
   ]
  },
  {
   "cell_type": "code",
   "execution_count": null,
   "id": "3ab28ed4-349d-4c20-90df-552f44ffe439",
   "metadata": {},
   "outputs": [],
   "source": [
    "linear_regression_model.fit(X, y)"
   ]
  },
  {
   "cell_type": "code",
   "execution_count": null,
   "id": "f92449da-89af-40a8-be9f-fe614a6e5c77",
   "metadata": {},
   "outputs": [],
   "source": [
    "coef_result = linear_regression_model.coef_\n",
    "coef_result"
   ]
  },
  {
   "cell_type": "code",
   "execution_count": null,
   "id": "f27907d9-8357-4294-84d5-0e6c92f46bfd",
   "metadata": {},
   "outputs": [],
   "source": [
    "intercept_result = linear_regression_model.intercept_\n",
    "intercept_result"
   ]
  },
  {
   "cell_type": "code",
   "execution_count": null,
   "id": "a8ed718c-9834-4742-8dd5-69bb9c6111f9",
   "metadata": {},
   "outputs": [],
   "source": [
    "def visualize_linear_regression(coef, intercept, X, y):\n",
    "    reg_x = np.linspace(0.5, 11, 2)\n",
    "    reg_y = intercept + coef * reg_x\n",
    "\n",
    "    plt.plot(X, y, 'ro')\n",
    "    plt.plot(reg_x, reg_y)\n",
    "    plt.xlabel('Year')\n",
    "    plt.ylabel('Salary')\n",
    "    plt.show()"
   ]
  },
  {
   "cell_type": "code",
   "execution_count": null,
   "id": "611dd501-def7-47a7-96ec-ae10900cfcbf",
   "metadata": {},
   "outputs": [],
   "source": [
    "visualize_linear_regression(coef_result, intercept_result, X, y)"
   ]
  },
  {
   "cell_type": "code",
   "execution_count": null,
   "id": "820e3ce9-5afd-43b3-b2da-4fc1b07b89fd",
   "metadata": {},
   "outputs": [],
   "source": [
    "y_pred = linear_regression_model.predict(X)\n",
    "y_pred"
   ]
  },
  {
   "cell_type": "code",
   "execution_count": null,
   "id": "23d54ba8-23f3-487d-a232-4cd8e1c83346",
   "metadata": {},
   "outputs": [],
   "source": [
    "root_mean_squared_error(y, y_pred)"
   ]
  },
  {
   "cell_type": "code",
   "execution_count": null,
   "id": "79b14b62-fd66-4434-99f7-f6c6cedbb500",
   "metadata": {},
   "outputs": [],
   "source": [
    "r2_score(y, y_pred)"
   ]
  },
  {
   "cell_type": "code",
   "execution_count": null,
   "id": "f3932978-bef1-4938-8845-c0e52e66bf31",
   "metadata": {},
   "outputs": [],
   "source": [
    "linear_regression_model.predict(np.array([[10]]))"
   ]
  },
  {
   "cell_type": "code",
   "execution_count": null,
   "id": "50543cc1-6f96-486d-a620-b1899367c49e",
   "metadata": {},
   "outputs": [],
   "source": []
  }
 ],
 "metadata": {
  "kernelspec": {
   "display_name": "Python 3",
   "language": "python",
   "name": "python3"
  },
  "language_info": {
   "codemirror_mode": {
    "name": "ipython",
    "version": 3
   },
   "file_extension": ".py",
   "mimetype": "text/x-python",
   "name": "python",
   "nbconvert_exporter": "python",
   "pygments_lexer": "ipython3",
   "version": "3.10.16"
  }
 },
 "nbformat": 4,
 "nbformat_minor": 5
}
