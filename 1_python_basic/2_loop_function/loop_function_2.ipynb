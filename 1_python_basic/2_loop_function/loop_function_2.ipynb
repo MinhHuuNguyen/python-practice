{
 "cells": [
  {
   "cell_type": "code",
   "execution_count": null,
   "metadata": {},
   "outputs": [],
   "source": [
    "# Câu 1: Viết một hàm tinh_tong(n) nhận vào một số nguyên dương n sau đó tính tổng các số từ 1 đến n."
   ]
  },
  {
   "cell_type": "code",
   "execution_count": null,
   "metadata": {},
   "outputs": [],
   "source": [
    "def tinhtong(n):\n",
    "    if n <= 0:\n",
    "        print('ko phai so nguyen duong')\n",
    "    else:\n",
    "        tong = 0\n",
    "        for i in range(1, n + 1):\n",
    "            tong = tong + i\n",
    "        return tong\n",
    "\n",
    "\n",
    "n = input('Nhập số n: ')\n",
    "n = int(n)\n",
    "tong = tinhtong(n)\n",
    "\n",
    "print('Tổng các số từ 1 đến', n, 'là:', tong)"
   ]
  },
  {
   "cell_type": "code",
   "execution_count": null,
   "metadata": {},
   "outputs": [],
   "source": [
    "# Câu 2: Viết một hàm tinh_tong_chan(n) nhận vào một số nguyên dương n sau đó tính tổng các số chẵn từ 1 đến n."
   ]
  },
  {
   "cell_type": "code",
   "execution_count": null,
   "metadata": {},
   "outputs": [],
   "source": [
    "def tinh_tong_chan(n):\n",
    "    if n <= 0:\n",
    "        print('ko phai so nguyen duong')\n",
    "    else:\n",
    "        tong_chan = 0\n",
    "        for i in range(2, n + 1, 2):\n",
    "            tong_chan += i\n",
    "        return tong_chan\n",
    "\n",
    "n = input('Nhập số n: ')\n",
    "n = int(n)\n",
    "tong_chan = tinh_tong_chan(n)\n",
    "print('Tổng các số chẵn từ 1 đến', n, 'là:', tong_chan)"
   ]
  },
  {
   "cell_type": "code",
   "execution_count": null,
   "metadata": {},
   "outputs": [],
   "source": [
    "# Câu 3: Viết một hàm tim_so_lon_nhat(danh_sach) nhận vào một danh sách chứa 5 số được nhập vào từ bàn phím.\n",
    "# Sau đó trả về số lớn nhất trong danh sách"
   ]
  },
  {
   "cell_type": "code",
   "execution_count": null,
   "metadata": {},
   "outputs": [],
   "source": [
    "def tim_so_lon_nhat(danh_sach):\n",
    "    if len(danh_sach) != 5:\n",
    "        print('Danh sách phải chứa đúng 5 số')\n",
    "        return None\n",
    "    else:\n",
    "        so_lon_nhat = danh_sach[0]\n",
    "        for so in danh_sach:\n",
    "            if so > so_lon_nhat:\n",
    "                so_lon_nhat = so\n",
    "        return so_lon_nhat\n",
    "\n",
    "# Nhập danh sách 5 số từ bàn phím\n",
    "danh_sach = []\n",
    "for i in range(5):\n",
    "    so = int(input(f'Nhập số thứ {i + 1}: '))\n",
    "    danh_sach.append(so)\n",
    "\n",
    "so_lon_nhat = tim_so_lon_nhat(danh_sach)\n",
    "print('Số lớn nhất trong danh sách là:', so_lon_nhat)"
   ]
  },
  {
   "cell_type": "code",
   "execution_count": null,
   "metadata": {},
   "outputs": [],
   "source": [
    "# Câu 4: Viết một hàm tim_so_be_nhat(danh_sach) nhận vào một danh sách chứa 5 số được nhập vào từ bàn phím.\n",
    "# Sau đó trả về số bé nhất trong danh sách."
   ]
  },
  {
   "cell_type": "code",
   "execution_count": null,
   "metadata": {},
   "outputs": [],
   "source": [
    "def tim_so_be_nhat(danh_sach):\n",
    "    if len(danh_sach) != 5:\n",
    "        print('Danh sách phải chứa đúng 5 số')\n",
    "        return None\n",
    "    else:\n",
    "        so_be_nhat = danh_sach[0]\n",
    "        for so in danh_sach:\n",
    "            if so < so_be_nhat:\n",
    "                so_be_nhat = so\n",
    "        return so_be_nhat\n",
    "\n",
    "# Nhập danh sách 5 số từ bàn phím\n",
    "danh_sach = []\n",
    "for i in range(5):\n",
    "    so = int(input(f'Nhập số thứ {i + 1}: '))\n",
    "    danh_sach.append(so)\n",
    "\n",
    "so_be_nhat = tim_so_be_nhat(danh_sach)\n",
    "print('Số bé nhất trong danh sách là:', so_be_nhat)"
   ]
  },
  {
   "cell_type": "code",
   "execution_count": null,
   "metadata": {},
   "outputs": [],
   "source": [
    "# Câu 5: Viết một hàm kiem_tra_so_nguyen_to(n) nhận vào một số nguyên dương n và\n",
    "# kiểm tra xem n có phải là số nguyên tố hay không"
   ]
  },
  {
   "cell_type": "code",
   "execution_count": null,
   "metadata": {},
   "outputs": [],
   "source": [
    "def kiem_tra_so_nguyen_to(n):\n",
    "    if n <= 1:\n",
    "        return False\n",
    "    for i in range(2, int(n**0.5) + 1):\n",
    "        if n % i == 0:\n",
    "            return False\n",
    "    return True\n",
    "\n",
    "# Kiểm tra số nguyên tố\n",
    "n = int(input('Nhập số n: '))\n",
    "if kiem_tra_so_nguyen_to(n):\n",
    "    print(n, 'là số nguyên tố')\n",
    "else:\n",
    "    print(n, 'không phải là số nguyên tố')"
   ]
  },
  {
   "cell_type": "code",
   "execution_count": null,
   "metadata": {},
   "outputs": [],
   "source": [
    "# Câu 6: Viết một hàm dem_so_chu_so(n) nhận vào một số nguyên dương n và đếm số chữ số của n"
   ]
  },
  {
   "cell_type": "code",
   "execution_count": null,
   "metadata": {},
   "outputs": [],
   "source": [
    "def dem_so_chu_so(n):\n",
    "    if n <= 0:\n",
    "        print('ko phai so nguyen duong')\n",
    "    else:\n",
    "        return len(str(n))\n",
    "\n",
    "# Đếm số chữ số của n\n",
    "n = int(input('Nhập số n: '))\n",
    "so_chu_so = dem_so_chu_so(n)\n",
    "print('Số chữ số của', n, 'là:', so_chu_so)"
   ]
  }
 ],
 "metadata": {
  "kernelspec": {
   "display_name": "base",
   "language": "python",
   "name": "python3"
  },
  "language_info": {
   "codemirror_mode": {
    "name": "ipython",
    "version": 3
   },
   "file_extension": ".py",
   "mimetype": "text/x-python",
   "name": "python",
   "nbconvert_exporter": "python",
   "pygments_lexer": "ipython3",
   "version": "3.12.2"
  }
 },
 "nbformat": 4,
 "nbformat_minor": 2
}
