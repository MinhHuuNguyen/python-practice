{
 "cells": [
  {
   "cell_type": "code",
   "execution_count": null,
   "metadata": {},
   "outputs": [],
   "source": [
    "# Bài tập 1: Nhập một số nguyên n khác 0 từ bàn phím, kiểm tra xem số n vừa nhập vào đó là số dương hay âm và in ra màn hình"
   ]
  },
  {
   "cell_type": "code",
   "execution_count": null,
   "metadata": {},
   "outputs": [],
   "source": [
    "n = int(input(\"Nhập một số nguyên n khác 0: \"))\n",
    "\n",
    "if n > 0:\n",
    "    print(f\"{n} là số dương\")\n",
    "elif n < 0:\n",
    "    print(f\"{n} là số âm\")\n",
    "else: # n == 0\n",
    "    print(f\"{n} không phải là số dương cũng không phải là số âm\")"
   ]
  },
  {
   "cell_type": "code",
   "execution_count": null,
   "metadata": {},
   "outputs": [],
   "source": [
    "# Bài tập 2: Nhập điểm trung bình (dtb) của một học sinh từ bàn phím, sau đó in ra màn hình xếp loại của học sinh này. \n",
    "# Biết rằng: \n",
    "# dtb < 4: Xếp loại yếu \n",
    "# 4 <= dtb < 6.5: Xếp loại trung bình \n",
    "# 6.5 <= dtb < 8: Xếp loại khá \n",
    "# dtb >= 8: Xếp loại giỏi "
   ]
  },
  {
   "cell_type": "code",
   "execution_count": null,
   "metadata": {},
   "outputs": [],
   "source": [
    "dtb = float(input(\"Nhập điểm trung bình của học sinh: \"))\n",
    "\n",
    "if dtb < 4:\n",
    "    print(\"Xếp loại yếu\")\n",
    "elif 4 <= dtb < 6.5:\n",
    "    print(\"Xếp loại trung bình\")\n",
    "elif 6.5 <= dtb < 8:\n",
    "    print(\"Xếp loại khá\")\n",
    "else: # dtb >= 8\n",
    "    print(\"Xếp loại giỏi\")\n"
   ]
  },
  {
   "cell_type": "code",
   "execution_count": null,
   "metadata": {},
   "outputs": [],
   "source": [
    "# Bài tập 3: Nhập vào lần lượt 3 hệ số a, b, c của phương trình bậc 2 (ax^2+bx+c = 0). Giải phương trình bậc 2 trên và in nghiệm ra màn hình. "
   ]
  },
  {
   "cell_type": "code",
   "execution_count": null,
   "metadata": {},
   "outputs": [],
   "source": [
    "a = float(input(\"Nhập hệ số a: \"))\n",
    "b = float(input(\"Nhập hệ số b: \"))\n",
    "c = float(input(\"Nhập hệ số c: \"))\n",
    "\n",
    "if a == 0:\n",
    "    print(\"Đây không phải phương trình bậc 2\")\n",
    "else: # a != 0\n",
    "    delta = b ** 2 - 4 * a * c\n",
    "    if delta < 0:\n",
    "        print(\"Phương trình vô nghiệm\")\n",
    "    elif delta == 0:\n",
    "        x = -b / (2 * a)\n",
    "        print(f\"Phương trình có nghiệm kép x = {x}\")\n",
    "    else: # delta > 0\n",
    "        x1 = (-b + delta ** 0.5) / (2 * a)\n",
    "        x2 = (-b - delta ** 0.5) / (2 * a)\n",
    "        print(f\"Phương trình có 2 nghiệm phân biệt: x1 = {x1}, x2 = {x2}\")"
   ]
  },
  {
   "cell_type": "code",
   "execution_count": null,
   "metadata": {},
   "outputs": [],
   "source": [
    "# Bài tập 4: Hãy sử dụng Python để giải bài toán cổ: “Vừa gà vừa chó, Bó lại cho tròn, Ba mươi sáu con, Một trăm chân chẵn“\n",
    "\n",
    "# Đặt số con gà là x, số con chó là y\n",
    "# Theo đề bài ta có hệ phương trình:\n",
    "# x + y = 36\n",
    "# 2x + 4y = 100\n",
    "# Giải hệ phương trình trên ta được:\n",
    "# x = 22, y = 14\n",
    "# Vậy có 22 con gà và 14 con chó"
   ]
  },
  {
   "cell_type": "code",
   "execution_count": null,
   "metadata": {},
   "outputs": [],
   "source": [
    "%pip install sympy"
   ]
  },
  {
   "cell_type": "code",
   "execution_count": null,
   "metadata": {},
   "outputs": [],
   "source": [
    "from sympy import symbols, Eq, solve\n",
    "\n",
    "x, y = symbols('x y')\n",
    "\n",
    "eq_1 = Eq(x + y, 36)\n",
    "eq_2 = Eq(2 * x + 4 * y, 100)\n",
    "\n",
    "result = solve((eq_1, eq_2), (x, y))\n",
    "\n",
    "print(f\"Vậy có {result[x]} con gà và {result[y]} con chó\")"
   ]
  },
  {
   "cell_type": "code",
   "execution_count": null,
   "metadata": {},
   "outputs": [],
   "source": [
    "# Bài tập 5: Tạo 3 biến lưu trữ 3 giá trị nhập vào ngày tháng năm, in ra ngày hôm sau và ngày hôm qua của ngày vừa nhập."
   ]
  },
  {
   "cell_type": "code",
   "execution_count": null,
   "metadata": {},
   "outputs": [],
   "source": [
    "ngay = int(input(\"Nhập ngày: \"))\n",
    "thang = int(input(\"Nhập tháng: \"))\n",
    "nam = int(input(\"Nhập năm: \"))\n",
    "\n",
    "if nam % 4 != 0 or (nam % 100 == 0 and nam % 400 != 0):\n",
    "    ngay_trong_thang = [31, 28, 31, 30, 31, 30, 31, 31, 30, 31, 30, 31]\n",
    "else:\n",
    "    ngay_trong_thang = [31, 29, 31, 30, 31, 30, 31, 31, 30, 31, 30, 31]\n",
    "\n",
    "if 1 <= ngay <= 31 and 1 <= thang <= 12 and nam >= 0:\n",
    "    if 1 <= ngay <= ngay_trong_thang[thang - 1]:\n",
    "        if ngay < ngay_trong_thang[thang - 1]:\n",
    "            ngay_hom_sau = ngay + 1\n",
    "            thang_hom_sau = thang\n",
    "            nam_hom_sau = nam\n",
    "        else:\n",
    "            ngay_hom_sau = 1\n",
    "            if thang < 12:\n",
    "                thang_hom_sau = thang + 1\n",
    "                nam_hom_sau = nam\n",
    "            else:\n",
    "                thang_hom_sau = 1\n",
    "                nam_hom_sau = nam + 1\n",
    "\n",
    "        if ngay > 1:\n",
    "            ngay_hom_qua = ngay - 1\n",
    "            thang_hom_qua = thang\n",
    "            nam_hom_qua = nam\n",
    "        else:\n",
    "            ngay_hom_qua = ngay_trong_thang[thang - 2]\n",
    "            if thang > 1:\n",
    "                thang_hom_qua = thang - 1\n",
    "                nam_hom_qua = nam\n",
    "            else:\n",
    "                thang_hom_qua = 12\n",
    "                nam_hom_qua = nam - 1\n",
    "\n",
    "        print(\"Ngày hôm sau là:\", ngay_hom_sau, \"/\", thang_hom_sau, \"/\", nam_hom_sau)\n",
    "        print(\"Ngày hôm qua là:\", ngay_hom_qua, \"/\", thang_hom_qua, \"/\", nam_hom_qua)\n",
    "    else:\n",
    "        print(\"Ngày không hợp lệ!\")\n",
    "else:\n",
    "    print(\"Ngày không hợp lệ!\")\n"
   ]
  },
  {
   "cell_type": "code",
   "execution_count": null,
   "metadata": {},
   "outputs": [],
   "source": []
  }
 ],
 "metadata": {
  "kernelspec": {
   "display_name": "base",
   "language": "python",
   "name": "python3"
  },
  "language_info": {
   "codemirror_mode": {
    "name": "ipython",
    "version": 3
   },
   "file_extension": ".py",
   "mimetype": "text/x-python",
   "name": "python",
   "nbconvert_exporter": "python",
   "pygments_lexer": "ipython3",
   "version": "3.12.2"
  }
 },
 "nbformat": 4,
 "nbformat_minor": 2
}
