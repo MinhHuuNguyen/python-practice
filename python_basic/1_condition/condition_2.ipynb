{
 "cells": [
  {
   "cell_type": "code",
   "execution_count": null,
   "metadata": {},
   "outputs": [],
   "source": [
    "# Câu 1: Tạo 2 biến a, b. Yêu cầu người dùng nhập từ bàn phím 2 số ngẫu nhiên. \n",
    "# Sau đó in ra màn hình kết quả tổng của 2 số vừa nhập. "
   ]
  },
  {
   "cell_type": "code",
   "execution_count": null,
   "metadata": {},
   "outputs": [],
   "source": [
    "a = input('Nhap so a: ')\n",
    "b = input('Nhap so b: ')\n",
    "\n",
    "a = float(a)\n",
    "b = float(b)\n",
    "\n",
    "print('Kieu du lieu cua a la', type(a))\n",
    "print('Kieu du lieu cua b la', type(b))\n",
    "\n",
    "print('Ket qua a + b =', a + b)"
   ]
  },
  {
   "cell_type": "code",
   "execution_count": null,
   "metadata": {},
   "outputs": [],
   "source": [
    "# Câu 2: Tạo 2 biến a và b. Yêu cầu người dùng nhập vào từ bàn phím 2 số ngẫu nhiên.\n",
    "# Kiểm tra a có chia hết cho b hay không? \n",
    "# Nếu có, in ra màn hình dòng chữ “a chia het cho b”\n",
    "# Ngược lại, in ra dòng chữ “ a khong chia het cho b” (nhập b khác 0)"
   ]
  },
  {
   "cell_type": "code",
   "execution_count": null,
   "metadata": {},
   "outputs": [],
   "source": [
    "a = input('Nhap so a: ')\n",
    "b = input('Nhap so b: ')\n",
    "\n",
    "a = int(a)\n",
    "b = int(b)\n",
    "\n",
    "if b == 0:\n",
    "    print('Khong the chia cho 0')\n",
    "else: # b != 0\n",
    "    if a % b == 0:\n",
    "        print('a chia het cho b')\n",
    "    else: # a % b != 0\n",
    "        print('a khong chia het cho b')"
   ]
  },
  {
   "cell_type": "code",
   "execution_count": null,
   "metadata": {},
   "outputs": [],
   "source": [
    "# Câu 3: Tạo biến year yêu cầu người dùng nhập vào 1 số (giả sử người dùng luôn nhập số > 0 ). \n",
    "# Hãy kiểm tra year và in ra màn hình năm đó có phải là năm nhuận hay không?"
   ]
  },
  {
   "cell_type": "code",
   "execution_count": null,
   "metadata": {},
   "outputs": [],
   "source": [
    "year = input('Nhap nam: ')\n",
    "\n",
    "if len(year) != 4:\n",
    "    print('Nam khong hop le')\n",
    "else:\n",
    "    year = int(year)\n",
    "\n",
    "    if year <= 0:\n",
    "        print('Nam khong hop le')\n",
    "    else: # year > 0\n",
    "        if year % 4 == 0 or (year % 100 == 0 and year % 400 == 0):\n",
    "            print('Nam nhuan')\n",
    "        else: # year % 4 != 0\n",
    "            print('Nam khong nhuan')"
   ]
  },
  {
   "cell_type": "code",
   "execution_count": null,
   "metadata": {},
   "outputs": [],
   "source": [
    "# Câu 4: Tạo 1 danh sách có 5 số. Sau đó tạo 2 biến x, y lưu trữ 2 số được nhập vào từ bàn phím.\n",
    "# Chèn x vào vị trí thứ 2 trong danh sách, y vào trị trí cuối cùng trong danh sách. "
   ]
  },
  {
   "cell_type": "code",
   "execution_count": null,
   "metadata": {},
   "outputs": [],
   "source": [
    "x = input('Nhap so x: ')\n",
    "y = input('Nhap so y: ')\n",
    "\n",
    "x = float(x)\n",
    "y = float(y)\n",
    "\n",
    "my_list = [15, 4, 97, 79, 88]\n",
    "\n",
    "print('List truoc khi chinh sua:', my_list)\n",
    "\n",
    "my_list.insert(1, x)\n",
    "my_list.append(y)\n",
    "\n",
    "print('List sau khi chinh sua:', my_list)"
   ]
  },
  {
   "cell_type": "code",
   "execution_count": null,
   "metadata": {},
   "outputs": [],
   "source": [
    "# Câu 5: Tạo biến s lưu trữ kết quả mà người dùng nhập vào từ bàn phím.\n",
    "# Kiểm tra xem trong s các ký tự đặc biệt không? \n",
    "# Nếu có, in ra màn hình dòng chữ ‘Yes’, ngược lại in ra dòng chữ ‘No’,\n",
    "# biết rằng, ký tự đặc biệt là các ký tự !, @, #, $, ^ "
   ]
  },
  {
   "cell_type": "code",
   "execution_count": null,
   "metadata": {},
   "outputs": [],
   "source": [
    "s = input('Nhap chuoi ky tu a: ')\n",
    "\n",
    "print('Chuoi ky tu a: ', s)\n",
    "\n",
    "if ('!' in s) or ('@' in s) or ('#' in s) or ('$' in s) or ('^' in s):\n",
    "    print('Chuoi ky tu a chua cac ky tu dac biet')\n",
    "else:\n",
    "    print('Chuoi ky tu a khong chua cac ky tu dac biet')"
   ]
  },
  {
   "cell_type": "code",
   "execution_count": null,
   "metadata": {},
   "outputs": [],
   "source": [
    "# TODO: In ra man hinh ky tu dac biet nao ma chuoi ky tu a chua"
   ]
  },
  {
   "cell_type": "code",
   "execution_count": null,
   "metadata": {},
   "outputs": [],
   "source": [
    "# Câu 6: Tạo 3 biến lưu trữ 3 số do người dùng nhập vào từ bàn phím. \n",
    "# Kiểm tra xem 3 giá trị vừa nhập phải là độ dài của 1 tam giác hay không?\n",
    "# (Gợi ý: Sử dụng bất đẳng thức tam giác để làm bài 6)"
   ]
  },
  {
   "cell_type": "code",
   "execution_count": null,
   "metadata": {},
   "outputs": [],
   "source": [
    "canh_1 = input('Nhap canh thu nhat: ')\n",
    "canh_2 = input('Nhap canh thu hai: ')\n",
    "canh_3 = input('Nhap canh thu ba: ')\n",
    "\n",
    "canh_1 = float(canh_1)\n",
    "canh_2 = float(canh_2)\n",
    "canh_3 = float(canh_3)\n",
    "\n",
    "print('Do dai 3 canh:', canh_1, canh_2, canh_3)\n",
    "\n",
    "# Tong cua 2 canh bat ky lon hon canh con lai\n",
    "# Hieu cua 2 canh bat ky nho hon canh con lai\n",
    "\n",
    "if (canh_1 + canh_2 > canh_3) and (canh_1 + canh_3 > canh_2) and (canh_2 + canh_3 > canh_1):\n",
    "    if (abs(canh_1 - canh_2) < canh_3) and (abs(canh_1 - canh_3) < canh_2) and (abs(canh_2 - canh_3) < canh_1):\n",
    "        print('Ba so', canh_1, canh_2, canh_3, 'tao thanh 1 tam giac')\n",
    "    else:\n",
    "        print('Ba so', canh_1, canh_2, canh_3, 'khong tao thanh 1 tam giac')\n",
    "else:\n",
    "    print('Ba so', canh_1, canh_2, canh_3, 'khong tao thanh 1 tam giac')"
   ]
  },
  {
   "cell_type": "code",
   "execution_count": null,
   "metadata": {},
   "outputs": [],
   "source": []
  }
 ],
 "metadata": {
  "kernelspec": {
   "display_name": "base",
   "language": "python",
   "name": "python3"
  },
  "language_info": {
   "codemirror_mode": {
    "name": "ipython",
    "version": 3
   },
   "file_extension": ".py",
   "mimetype": "text/x-python",
   "name": "python",
   "nbconvert_exporter": "python",
   "pygments_lexer": "ipython3",
   "version": "3.12.2"
  }
 },
 "nbformat": 4,
 "nbformat_minor": 2
}
