{
 "cells": [
  {
   "cell_type": "code",
   "execution_count": null,
   "metadata": {},
   "outputs": [],
   "source": [
    "# Bài tập 1: Viết một hàm kiem_tra_so_nguyen_to(n).\n",
    "# Nhận vào một số nguyên dương n và kiểm tra xem n có phải là số nguyên tố hay không.\n",
    "# Sử dụng vòng lặp và kiểm tra các ước số của n để thực hiện tác vụ này."
   ]
  },
  {
   "cell_type": "code",
   "execution_count": null,
   "metadata": {},
   "outputs": [],
   "source": [
    "def kiem_tra_so_nguyen_to(n):\n",
    "    if n < 2:\n",
    "        return False\n",
    "    else: # n >= 2\n",
    "        for i in range(2, int(n / 2 + 1)):\n",
    "            if n % i == 0:\n",
    "                return False\n",
    "        return True\n",
    "\n",
    "n = int(input(\"Nhập một số nguyên dương n: \"))\n",
    "\n",
    "if kiem_tra_so_nguyen_to(n):\n",
    "    print(f\"{n} là số nguyên tố\")\n",
    "else:\n",
    "    print(f\"{n} không phải là số nguyên tố\")"
   ]
  },
  {
   "cell_type": "code",
   "execution_count": null,
   "metadata": {},
   "outputs": [],
   "source": [
    "# Bài tập 2: Viết một hàm tinh_giai_thua(n) nhận vào một số nguyên dương n và tính giai thừa của n (n!)"
   ]
  },
  {
   "cell_type": "code",
   "execution_count": null,
   "metadata": {},
   "outputs": [],
   "source": [
    "def tinh_giai_thua(n):\n",
    "    if n == 0:\n",
    "        return 1\n",
    "    else:\n",
    "        giai_thua = 1\n",
    "        for i in range(1, n + 1):\n",
    "            giai_thua *= i\n",
    "        return giai_thua\n",
    "\n",
    "n = int(input(\"Nhập một số nguyên dương n: \"))\n",
    "\n",
    "print(f\"{n}! = {tinh_giai_thua(n)}\")"
   ]
  },
  {
   "cell_type": "code",
   "execution_count": null,
   "metadata": {},
   "outputs": [],
   "source": [
    "# Bài tập 3: Viết một hàm tinh_tong(n) nhận vào một số nguyên dương n và tính tổng các chữ số của n.\n",
    "# Ví dụ: n = 123, thì hiển thị kết quả là 6."
   ]
  },
  {
   "cell_type": "code",
   "execution_count": null,
   "metadata": {},
   "outputs": [],
   "source": [
    "def tinh_tong(n):\n",
    "    tong = 0\n",
    "    while n > 0:\n",
    "        tong += n % 10\n",
    "        n //= 10\n",
    "    return tong\n",
    "\n",
    "n = int(input(\"Nhập một số nguyên dương n: \"))\n",
    "\n",
    "print(f\"Tổng các chữ số của {n} là {tinh_tong(n)}\")"
   ]
  },
  {
   "cell_type": "code",
   "execution_count": null,
   "metadata": {},
   "outputs": [],
   "source": [
    "# Bài tập 4: Viết một hàm tinh_trung_binh(data) nhận vào một danh sách số và tính trung bình cộng của các số trong danh sách đó.\n",
    "# Sử dụng vòng lặp để lặp qua từng số trong danh sách và tính tổng các số"
   ]
  },
  {
   "cell_type": "code",
   "execution_count": null,
   "metadata": {},
   "outputs": [],
   "source": [
    "def tinh_trung_binh(data):\n",
    "    tong = 0\n",
    "    for so in data:\n",
    "        tong += so\n",
    "    return tong / len(data)\n",
    "\n",
    "data = [1, 2, 3, 4, 5]\n",
    "\n",
    "print(f\"Trung bình cộng của {data} là {tinh_trung_binh(data)}\")"
   ]
  },
  {
   "cell_type": "code",
   "execution_count": null,
   "metadata": {},
   "outputs": [],
   "source": [
    "# Bài tập 5: Viết một hàm dem_so_lan_xuat_hien(data) nhận vào một danh sách và đếm số lần xuất hiện của mỗi phần tử trong danh sách đó. "
   ]
  },
  {
   "cell_type": "code",
   "execution_count": null,
   "metadata": {},
   "outputs": [],
   "source": [
    "def dem_so_lan_xuat_hien(data):\n",
    "    dem = {} # key - value: phần tử - số lần xuất hiện\n",
    "    for phan_tu in data:\n",
    "        if phan_tu not in dem:\n",
    "            dem[phan_tu] = 1\n",
    "        else:\n",
    "            dem[phan_tu] += 1\n",
    "    return dem\n",
    "\n",
    "data = [1, 2, 3, 4, 4, 5, 5, 5, 5, 5]\n",
    "\n",
    "print(f\"Số lần xuất hiện của các phần tử trong {data} là {dem_so_lan_xuat_hien(data)}\")"
   ]
  },
  {
   "cell_type": "code",
   "execution_count": null,
   "metadata": {},
   "outputs": [],
   "source": []
  }
 ],
 "metadata": {
  "kernelspec": {
   "display_name": "base",
   "language": "python",
   "name": "python3"
  },
  "language_info": {
   "codemirror_mode": {
    "name": "ipython",
    "version": 3
   },
   "file_extension": ".py",
   "mimetype": "text/x-python",
   "name": "python",
   "nbconvert_exporter": "python",
   "pygments_lexer": "ipython3",
   "version": "3.12.2"
  }
 },
 "nbformat": 4,
 "nbformat_minor": 2
}
