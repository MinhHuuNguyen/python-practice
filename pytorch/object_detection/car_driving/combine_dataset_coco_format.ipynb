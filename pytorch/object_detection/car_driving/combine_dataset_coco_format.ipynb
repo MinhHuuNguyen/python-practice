{
 "cells": [
  {
   "cell_type": "code",
   "execution_count": 1,
   "id": "7a17efe4-ca4a-4000-b960-04757d059470",
   "metadata": {},
   "outputs": [],
   "source": [
    "!mkdir data/driving_coco\n",
    "!mkdir data/driving_coco/images\n",
    "!mkdir data/driving_coco/images/train\n",
    "!mkdir data/driving_coco/images/val\n",
    "!mkdir data/driving_coco/labels\n",
    "!mkdir data/driving_coco/labels/train\n",
    "!mkdir data/driving_coco/labels/val"
   ]
  },
  {
   "cell_type": "code",
   "execution_count": 2,
   "id": "40731dd9-e378-4cd6-b2ef-bfe91f23d4bc",
   "metadata": {},
   "outputs": [],
   "source": [
    "import os\n",
    "from glob import glob\n",
    "\n",
    "from tqdm import tqdm"
   ]
  },
  {
   "cell_type": "code",
   "execution_count": 3,
   "id": "c3c1fe4f-465d-49da-b4c3-6b88d80674fe",
   "metadata": {},
   "outputs": [],
   "source": [
    "folder_name_list = ['indian_driving_coco', 'self_driving_cars_coco']\n",
    "set_type_list = ['train', 'val']\n",
    "data_type_list = ['images', 'labels']"
   ]
  },
  {
   "cell_type": "code",
   "execution_count": 4,
   "id": "ffcd0aa8-a513-4fde-8be4-897ef4a3abc4",
   "metadata": {},
   "outputs": [],
   "source": [
    "def get_class_idx_list(class_idx_list, path):\n",
    "    with open(path, 'r') as file:\n",
    "        lines = file.readlines()\n",
    "        for line in lines:\n",
    "            class_idx = line.split()[0]\n",
    "            class_idx_list.append(int(class_idx))\n",
    "    return list(set(class_idx_list))"
   ]
  },
  {
   "cell_type": "code",
   "execution_count": 5,
   "id": "065cde16-857b-4692-9053-d3631d07bbcd",
   "metadata": {},
   "outputs": [],
   "source": [
    "def update_class_idx(max_class_idx, from_path, to_path):\n",
    "    with open(from_path, 'r') as file:\n",
    "        lines = file.readlines()\n",
    "        new_lines = []\n",
    "        for line in lines:\n",
    "            line_info = line.split()\n",
    "            class_idx = int(line_info[0])\n",
    "            x, y, w, h = line_info[1], line_info[2], line_info[3], line_info[4]\n",
    "            new_lines.append(f'{class_idx + max_class_idx} {x} {y} {w} {h}')\n",
    "\n",
    "    with open(to_path, 'w') as file:\n",
    "        file.write('\\n'.join(new_lines))"
   ]
  },
  {
   "cell_type": "code",
   "execution_count": 6,
   "id": "7d9055f1-caa7-4133-bb81-af63becc0653",
   "metadata": {},
   "outputs": [
    {
     "name": "stdout",
     "output_type": "stream",
     "text": [
      "Running.... ./data/indian_driving_coco/images/train/*.jpg\n"
     ]
    },
    {
     "name": "stderr",
     "output_type": "stream",
     "text": [
      "100%|█████████████████████████████████████████████████████████████████████████████████████████████████████████████| 9451/9451 [00:29<00:00, 320.21it/s]\n"
     ]
    },
    {
     "name": "stdout",
     "output_type": "stream",
     "text": [
      "Running.... ./data/indian_driving_coco/images/val/*.jpg\n"
     ]
    },
    {
     "name": "stderr",
     "output_type": "stream",
     "text": [
      "100%|█████████████████████████████████████████████████████████████████████████████████████████████████████████████| 5392/5392 [00:17<00:00, 312.24it/s]\n"
     ]
    },
    {
     "name": "stdout",
     "output_type": "stream",
     "text": [
      "Running.... ./data/indian_driving_coco/labels/train/*.txt\n"
     ]
    },
    {
     "name": "stderr",
     "output_type": "stream",
     "text": [
      "100%|█████████████████████████████████████████████████████████████████████████████████████████████████████████████| 9451/9451 [00:22<00:00, 421.62it/s]\n"
     ]
    },
    {
     "name": "stdout",
     "output_type": "stream",
     "text": [
      "Running.... ./data/indian_driving_coco/labels/val/*.txt\n"
     ]
    },
    {
     "name": "stderr",
     "output_type": "stream",
     "text": [
      "100%|█████████████████████████████████████████████████████████████████████████████████████████████████████████████| 5392/5392 [00:13<00:00, 409.03it/s]\n"
     ]
    },
    {
     "name": "stdout",
     "output_type": "stream",
     "text": [
      "Running.... ./data/self_driving_cars_coco/images/train/*.jpg\n"
     ]
    },
    {
     "name": "stderr",
     "output_type": "stream",
     "text": [
      "100%|███████████████████████████████████████████████████████████████████████████████████████████████████████████| 18000/18000 [00:43<00:00, 412.99it/s]\n"
     ]
    },
    {
     "name": "stdout",
     "output_type": "stream",
     "text": [
      "Running.... ./data/self_driving_cars_coco/images/val/*.jpg\n"
     ]
    },
    {
     "name": "stderr",
     "output_type": "stream",
     "text": [
      "100%|█████████████████████████████████████████████████████████████████████████████████████████████████████████████| 4241/4241 [00:09<00:00, 425.25it/s]\n"
     ]
    },
    {
     "name": "stdout",
     "output_type": "stream",
     "text": [
      "Running.... ./data/self_driving_cars_coco/labels/train/*.txt\n"
     ]
    },
    {
     "name": "stderr",
     "output_type": "stream",
     "text": [
      "100%|██████████████████████████████████████████████████████████████████████████████████████████████████████████| 18000/18000 [00:03<00:00, 4869.92it/s]\n"
     ]
    },
    {
     "name": "stdout",
     "output_type": "stream",
     "text": [
      "Running.... ./data/self_driving_cars_coco/labels/val/*.txt\n"
     ]
    },
    {
     "name": "stderr",
     "output_type": "stream",
     "text": [
      "100%|████████████████████████████████████████████████████████████████████████████████████████████████████████████| 4241/4241 [00:00<00:00, 4340.97it/s]\n"
     ]
    }
   ],
   "source": [
    "indian_driving_coco_class_idx_list = []\n",
    "for folder_name in folder_name_list:\n",
    "    for data_type in data_type_list:\n",
    "        ext = '.txt' if data_type == 'labels' else '.jpg'\n",
    "        for set_type in set_type_list:\n",
    "            glob_path = f'./data/{folder_name}/{data_type}/{set_type}/*{ext}'\n",
    "            print('Running....', glob_path)\n",
    "            _paths = glob(glob_path)\n",
    "            for from_path in tqdm(_paths):\n",
    "                to_path = from_path.replace(folder_name, 'driving_coco')\n",
    "\n",
    "                # Change class_idx in labels while combining two datasets\n",
    "                if folder_name == 'indian_driving_coco' and data_type == 'labels':\n",
    "                    indian_driving_coco_class_idx_list = get_class_idx_list(indian_driving_coco_class_idx_list, from_path)\n",
    "                if folder_name == 'self_driving_cars_coco' and data_type == 'labels':\n",
    "                    max_class_idx = max(indian_driving_coco_class_idx_list)\n",
    "                    update_class_idx(max_class_idx, from_path, to_path)\n",
    "                else:\n",
    "                    os.system(f'cp {from_path} {to_path}')"
   ]
  },
  {
   "cell_type": "code",
   "execution_count": 7,
   "id": "5e8ebb2d-6ce4-4932-ba4d-e68edb888a4f",
   "metadata": {},
   "outputs": [],
   "source": [
    "def create_txt_path_file(root_path, dataset_name):\n",
    "    file_path_list = glob(os.path.join(root_path, dataset_name, '*'))\n",
    "    file_path_list = [path.replace('data/driving_coco', '.') + '\\n' for path in file_path_list]\n",
    "    with open(f'data/driving_coco/{dataset_name}.txt', 'w') as file:\n",
    "        file.writelines(file_path_list)"
   ]
  },
  {
   "cell_type": "code",
   "execution_count": 8,
   "id": "15877712-1b6e-4340-8b30-768650ab642f",
   "metadata": {},
   "outputs": [],
   "source": [
    "create_txt_path_file('data/driving_coco/images/', 'train')"
   ]
  },
  {
   "cell_type": "code",
   "execution_count": 9,
   "id": "27cbac5f-7cc1-4731-976b-07a14be6d929",
   "metadata": {},
   "outputs": [],
   "source": [
    "create_txt_path_file('data/driving_coco/images/', 'val')"
   ]
  },
  {
   "cell_type": "code",
   "execution_count": null,
   "id": "c5b4f8f0-76aa-4c71-b21b-c730e74ed977",
   "metadata": {},
   "outputs": [],
   "source": []
  }
 ],
 "metadata": {
  "kernelspec": {
   "display_name": "Python 3 (ipykernel)",
   "language": "python",
   "name": "python3"
  },
  "language_info": {
   "codemirror_mode": {
    "name": "ipython",
    "version": 3
   },
   "file_extension": ".py",
   "mimetype": "text/x-python",
   "name": "python",
   "nbconvert_exporter": "python",
   "pygments_lexer": "ipython3",
   "version": "3.9.6"
  }
 },
 "nbformat": 4,
 "nbformat_minor": 5
}
