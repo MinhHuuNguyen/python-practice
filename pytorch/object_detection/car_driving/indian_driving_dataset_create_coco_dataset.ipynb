{
 "cells": [
  {
   "cell_type": "code",
   "execution_count": 1,
   "id": "ae8f6f1c-1ef9-4e5b-8797-ce1fb09afdfe",
   "metadata": {},
   "outputs": [],
   "source": [
    "!mkdir data/indian_driving_coco\n",
    "!mkdir data/indian_driving_coco/images\n",
    "!mkdir data/indian_driving_coco/images/train\n",
    "!mkdir data/indian_driving_coco/images/val\n",
    "!mkdir data/indian_driving_coco/labels\n",
    "!mkdir data/indian_driving_coco/labels/train\n",
    "!mkdir data/indian_driving_coco/labels/val"
   ]
  },
  {
   "cell_type": "code",
   "execution_count": 2,
   "id": "a3c94a19-23b0-4920-81f4-3adf36a1a09d",
   "metadata": {},
   "outputs": [],
   "source": [
    "import os\n",
    "import json\n",
    "from glob import glob\n",
    "\n",
    "from tqdm import tqdm\n",
    "from bs4 import BeautifulSoup"
   ]
  },
  {
   "cell_type": "code",
   "execution_count": 3,
   "id": "14ace3e5-9383-4af9-8e07-a1be0bc71866",
   "metadata": {},
   "outputs": [
    {
     "data": {
      "text/plain": [
       "9451"
      ]
     },
     "execution_count": 3,
     "metadata": {},
     "output_type": "execute_result"
    }
   ],
   "source": [
    "train_image_paths = glob('./data/indian_driving_dataset_train/images/train/*.jpg')\n",
    "train_image_paths = sorted(train_image_paths)\n",
    "len(train_image_paths)"
   ]
  },
  {
   "cell_type": "code",
   "execution_count": 4,
   "id": "4af66b65-e0ea-4091-8a7b-f9019aaf1b73",
   "metadata": {},
   "outputs": [
    {
     "name": "stderr",
     "output_type": "stream",
     "text": [
      "100%|█████████████████████████████████████████████████████████████████████████████████████████████████████████████| 9451/9451 [00:27<00:00, 342.62it/s]\n"
     ]
    }
   ],
   "source": [
    "for train_image_path in tqdm(train_image_paths):\n",
    "    from_train_image_path = train_image_path\n",
    "    to_train_image_path = train_image_path.replace('indian_driving_dataset_train', 'indian_driving_coco')\n",
    "    os.system(f'cp {train_image_path} {to_train_image_path}')"
   ]
  },
  {
   "cell_type": "code",
   "execution_count": 5,
   "id": "8a2eed4d-fb46-4f2f-9efe-e098ae4f2567",
   "metadata": {},
   "outputs": [
    {
     "data": {
      "text/plain": [
       "5392"
      ]
     },
     "execution_count": 5,
     "metadata": {},
     "output_type": "execute_result"
    }
   ],
   "source": [
    "val_image_paths = glob('./data/indian_driving_dataset_train/images/val/*.jpg')\n",
    "val_image_paths = sorted(val_image_paths)\n",
    "len(val_image_paths)"
   ]
  },
  {
   "cell_type": "code",
   "execution_count": 6,
   "id": "51d9fd03-d318-423f-955c-b8008632b487",
   "metadata": {},
   "outputs": [
    {
     "name": "stderr",
     "output_type": "stream",
     "text": [
      "100%|█████████████████████████████████████████████████████████████████████████████████████████████████████████████| 5392/5392 [00:17<00:00, 306.11it/s]\n"
     ]
    }
   ],
   "source": [
    "for val_image_path in tqdm(val_image_paths):\n",
    "    from_val_image_path = val_image_path\n",
    "    to_val_image_path = val_image_path.replace('indian_driving_dataset_train', 'indian_driving_coco')\n",
    "    os.system(f'cp {from_val_image_path} {to_val_image_path}')"
   ]
  },
  {
   "cell_type": "code",
   "execution_count": 7,
   "id": "5d729280-60ed-4dd0-8f9d-99961bacc729",
   "metadata": {},
   "outputs": [
    {
     "data": {
      "text/plain": [
       "{'car': 0,\n",
       " 'bus': 1,\n",
       " 'autorickshaw': 2,\n",
       " 'vehicle fallback': 3,\n",
       " 'truck': 4,\n",
       " 'motorcycle': 5,\n",
       " 'rider': 6,\n",
       " 'person': 7,\n",
       " 'bicycle': 8,\n",
       " 'animal': 9,\n",
       " 'traffic sign': 10,\n",
       " 'train': 11,\n",
       " 'trailer': 12,\n",
       " 'traffic light': 13,\n",
       " 'caravan': 14}"
      ]
     },
     "execution_count": 7,
     "metadata": {},
     "output_type": "execute_result"
    }
   ],
   "source": [
    "with open('./data/indian_driving_dataset_train/class_mapping.json', 'r') as file:\n",
    "    class_map_dict = json.load(file)\n",
    "\n",
    "class_map_dict"
   ]
  },
  {
   "cell_type": "code",
   "execution_count": 8,
   "id": "cfffde55-10c8-42c5-8897-6aea54beaf51",
   "metadata": {},
   "outputs": [],
   "source": [
    "def convert_to_coco_label_format(x1, y1, x2, y2, img_w, img_h):\n",
    "    # Format: relative\n",
    "    # object_index - x_center - y_center - width - height\n",
    "    x = (x1 + x2) / 2 / img_w\n",
    "    y = (y1 + y2) / 2 / img_h\n",
    "    w = (x2 - x1) / img_w\n",
    "    h = (y2 - y1) / img_h\n",
    "    return x, y, w, h"
   ]
  },
  {
   "cell_type": "code",
   "execution_count": 9,
   "id": "d872d240-5cf9-4991-a75e-5488375c2df2",
   "metadata": {},
   "outputs": [],
   "source": [
    "def get_img_w_h(bs_data):\n",
    "    w = int(bs_data.find('size').find('width').text)\n",
    "    h = int(bs_data.find('size').find('height').text)\n",
    "    return w, h"
   ]
  },
  {
   "cell_type": "code",
   "execution_count": 10,
   "id": "6b65ba3d-a29c-433b-ad24-4c90c6f33e32",
   "metadata": {},
   "outputs": [],
   "source": [
    "def get_img_label(obj_data):\n",
    "    class_ = obj_data.find('name').text\n",
    "    bbox = obj_data.find('bndbox')\n",
    "    x1 = int(bbox.find('xmin').text)\n",
    "    y1 = int(bbox.find('ymin').text)\n",
    "    x2 = int(bbox.find('xmax').text)\n",
    "    y2 = int(bbox.find('ymax').text)\n",
    "    return class_, x1, y1, x2, y2"
   ]
  },
  {
   "cell_type": "code",
   "execution_count": 11,
   "id": "f000f5d5-d832-4dc8-84c3-0ff4728c95e1",
   "metadata": {},
   "outputs": [],
   "source": [
    "def prepare_coco_label(image_paths):\n",
    "    for image_path in tqdm(image_paths):\n",
    "        label_path = image_path.replace('images', 'labels').replace('.jpg', '.txt')\n",
    "    \n",
    "        with open(label_path, 'r') as f:\n",
    "            bs_data = BeautifulSoup(f.read(), 'xml')\n",
    "    \n",
    "        img_w, img_h = get_img_w_h(bs_data)\n",
    "        img_label_list = []\n",
    "        for obj_data in bs_data.find_all('object'):\n",
    "            class_, x1, y1, x2, y2 = get_img_label(obj_data)\n",
    "            x, y, w, h = convert_to_coco_label_format(x1, y1, x2, y2, img_w, img_h)\n",
    "            img_label_list.append(f'{class_map_dict[class_]} {x} {y} {w} {h}')\n",
    "    \n",
    "        coco_label_path = label_path.replace('indian_driving_dataset_train', 'indian_driving_coco')\n",
    "        with open(coco_label_path, 'w') as file:\n",
    "            file.write('\\n'.join(img_label_list))"
   ]
  },
  {
   "cell_type": "code",
   "execution_count": 12,
   "id": "ee88978e-2555-4c0c-aa7c-7550504addb7",
   "metadata": {},
   "outputs": [
    {
     "name": "stderr",
     "output_type": "stream",
     "text": [
      "100%|█████████████████████████████████████████████████████████████████████████████████████████████████████████████| 9451/9451 [00:10<00:00, 940.78it/s]\n"
     ]
    }
   ],
   "source": [
    "prepare_coco_label(train_image_paths)"
   ]
  },
  {
   "cell_type": "code",
   "execution_count": 13,
   "id": "11826117-59f6-4138-a29c-b19cb81b1f41",
   "metadata": {},
   "outputs": [
    {
     "name": "stderr",
     "output_type": "stream",
     "text": [
      "100%|████████████████████████████████████████████████████████████████████████████████████████████████████████████| 5392/5392 [00:05<00:00, 1004.02it/s]\n"
     ]
    }
   ],
   "source": [
    "prepare_coco_label(val_image_paths)"
   ]
  },
  {
   "cell_type": "code",
   "execution_count": 14,
   "id": "2c72b162-cdb7-48fd-a77b-b943addd7b42",
   "metadata": {},
   "outputs": [],
   "source": [
    "def create_txt_path_file(root_path, dataset_name):\n",
    "    file_path_list = glob(os.path.join(root_path, dataset_name, '*'))\n",
    "    file_path_list = [path.replace('data/indian_driving_coco', '.') + '\\n' for path in file_path_list]\n",
    "    with open(f'data/indian_driving_coco/{dataset_name}.txt', 'w') as file:\n",
    "        file.writelines(file_path_list)"
   ]
  },
  {
   "cell_type": "code",
   "execution_count": 15,
   "id": "f5dad6b2-acec-439a-87ae-3384dc1fed5a",
   "metadata": {},
   "outputs": [],
   "source": [
    "create_txt_path_file('data/indian_driving_coco/images/', 'train')"
   ]
  },
  {
   "cell_type": "code",
   "execution_count": 16,
   "id": "2f50b8e9-2ce5-435a-af8d-2be11df38bb1",
   "metadata": {},
   "outputs": [],
   "source": [
    "create_txt_path_file('data/indian_driving_coco/images/', 'val')"
   ]
  },
  {
   "cell_type": "code",
   "execution_count": null,
   "id": "97261e1f-4909-408d-8785-e5b211fd8852",
   "metadata": {},
   "outputs": [],
   "source": []
  }
 ],
 "metadata": {
  "kernelspec": {
   "display_name": "Python 3 (ipykernel)",
   "language": "python",
   "name": "python3"
  },
  "language_info": {
   "codemirror_mode": {
    "name": "ipython",
    "version": 3
   },
   "file_extension": ".py",
   "mimetype": "text/x-python",
   "name": "python",
   "nbconvert_exporter": "python",
   "pygments_lexer": "ipython3",
   "version": "3.9.6"
  }
 },
 "nbformat": 4,
 "nbformat_minor": 5
}
