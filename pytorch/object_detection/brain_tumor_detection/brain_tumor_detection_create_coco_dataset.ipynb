{
 "cells": [
  {
   "cell_type": "code",
   "execution_count": 1,
   "id": "d991f328",
   "metadata": {},
   "outputs": [
    {
     "name": "stdout",
     "output_type": "stream",
     "text": [
      "LICENSE          \u001b[1m\u001b[36mimages\u001b[m\u001b[m           train2017.cache\n",
      "README.txt       \u001b[1m\u001b[36mlabels\u001b[m\u001b[m           train2017.txt\n",
      "\u001b[1m\u001b[36mannotations\u001b[m\u001b[m      test-dev2017.txt val2017.txt\n"
     ]
    }
   ],
   "source": [
    "!ls yolov5/data/datasets/coco"
   ]
  },
  {
   "cell_type": "code",
   "execution_count": 2,
   "id": "2b6b3562",
   "metadata": {},
   "outputs": [
    {
     "name": "stdout",
     "output_type": "stream",
     "text": [
      "\u001b[1m\u001b[36mtrain2017\u001b[m\u001b[m \u001b[1m\u001b[36mval2017\u001b[m\u001b[m\n"
     ]
    }
   ],
   "source": [
    "!ls yolov5/data/datasets/coco/images"
   ]
  },
  {
   "cell_type": "code",
   "execution_count": 3,
   "id": "a7f7d7c5",
   "metadata": {},
   "outputs": [
    {
     "name": "stdout",
     "output_type": "stream",
     "text": [
      "\u001b[1m\u001b[36mtrain2017\u001b[m\u001b[m \u001b[1m\u001b[36mval2017\u001b[m\u001b[m\n"
     ]
    }
   ],
   "source": [
    "!ls yolov5/data/datasets/coco/labels"
   ]
  },
  {
   "cell_type": "code",
   "execution_count": 4,
   "id": "48d5b0bb",
   "metadata": {},
   "outputs": [],
   "source": [
    "!mkdir data/brain_tumor_coco\n",
    "!mkdir data/brain_tumor_coco/images\n",
    "!mkdir data/brain_tumor_coco/images/train\n",
    "!mkdir data/brain_tumor_coco/images/val\n",
    "!mkdir data/brain_tumor_coco/images/test\n",
    "!mkdir data/brain_tumor_coco/labels\n",
    "!mkdir data/brain_tumor_coco/labels/train\n",
    "!mkdir data/brain_tumor_coco/labels/val"
   ]
  },
  {
   "cell_type": "code",
   "execution_count": 5,
   "id": "7f04550b",
   "metadata": {},
   "outputs": [
    {
     "name": "stdout",
     "output_type": "stream",
     "text": [
      "\u001b[1m\u001b[36mimages\u001b[m\u001b[m \u001b[1m\u001b[36mlabels\u001b[m\u001b[m\n"
     ]
    }
   ],
   "source": [
    "!ls data/brain_tumor_coco/"
   ]
  },
  {
   "cell_type": "code",
   "execution_count": 6,
   "id": "30a3b697",
   "metadata": {},
   "outputs": [
    {
     "name": "stdout",
     "output_type": "stream",
     "text": [
      "\u001b[1m\u001b[36mtest\u001b[m\u001b[m  \u001b[1m\u001b[36mtrain\u001b[m\u001b[m \u001b[1m\u001b[36mval\u001b[m\u001b[m\n"
     ]
    }
   ],
   "source": [
    "!ls data/brain_tumor_coco/images"
   ]
  },
  {
   "cell_type": "code",
   "execution_count": 7,
   "id": "51db5572",
   "metadata": {},
   "outputs": [
    {
     "name": "stdout",
     "output_type": "stream",
     "text": [
      "\u001b[1m\u001b[36mtrain\u001b[m\u001b[m \u001b[1m\u001b[36mval\u001b[m\u001b[m\n"
     ]
    }
   ],
   "source": [
    "!ls data/brain_tumor_coco/labels"
   ]
  },
  {
   "cell_type": "code",
   "execution_count": 8,
   "id": "b531c303",
   "metadata": {},
   "outputs": [],
   "source": [
    "!cp data/brain_tumor_dataset/test/* data/brain_tumor_coco/images/test"
   ]
  },
  {
   "cell_type": "code",
   "execution_count": 9,
   "id": "a8125ab5-cfdd-4566-a883-d90bc6295b07",
   "metadata": {},
   "outputs": [],
   "source": [
    "# !ls data/brain_tumor_coco/images/test"
   ]
  },
  {
   "cell_type": "markdown",
   "id": "3c11553a",
   "metadata": {},
   "source": [
    "# 1. Chuẩn bị dữ liệu ảnh"
   ]
  },
  {
   "cell_type": "code",
   "execution_count": 10,
   "id": "e631b22b",
   "metadata": {},
   "outputs": [],
   "source": [
    "import pandas as pd\n",
    "from tqdm import tqdm\n",
    "from PIL import Image\n",
    "\n",
    "from glob import glob\n",
    "import json\n",
    "import os"
   ]
  },
  {
   "cell_type": "code",
   "execution_count": 11,
   "id": "ab2d0e15",
   "metadata": {},
   "outputs": [],
   "source": [
    "df = pd.read_csv('data/brain_tumor_dataset/brain_multi.csv')\n",
    "df = df.sample(frac=1)"
   ]
  },
  {
   "cell_type": "code",
   "execution_count": 12,
   "id": "eb0155fc",
   "metadata": {},
   "outputs": [
    {
     "data": {
      "text/html": [
       "<div>\n",
       "<style scoped>\n",
       "    .dataframe tbody tr th:only-of-type {\n",
       "        vertical-align: middle;\n",
       "    }\n",
       "\n",
       "    .dataframe tbody tr th {\n",
       "        vertical-align: top;\n",
       "    }\n",
       "\n",
       "    .dataframe thead th {\n",
       "        text-align: right;\n",
       "    }\n",
       "</style>\n",
       "<table border=\"1\" class=\"dataframe\">\n",
       "  <thead>\n",
       "    <tr style=\"text-align: right;\">\n",
       "      <th></th>\n",
       "      <th>image_name</th>\n",
       "      <th>label</th>\n",
       "      <th>xmin</th>\n",
       "      <th>ymin</th>\n",
       "      <th>xmax</th>\n",
       "      <th>ymax</th>\n",
       "      <th>confidence</th>\n",
       "    </tr>\n",
       "  </thead>\n",
       "  <tbody>\n",
       "    <tr>\n",
       "      <th>1424</th>\n",
       "      <td>Cancer-588-_jpg.rf.61a7d8d8c55e5af4b9349577f0e...</td>\n",
       "      <td>tumor</td>\n",
       "      <td>199</td>\n",
       "      <td>244</td>\n",
       "      <td>289</td>\n",
       "      <td>339</td>\n",
       "      <td>0.084638</td>\n",
       "    </tr>\n",
       "    <tr>\n",
       "      <th>2077</th>\n",
       "      <td>Cancer-1464-_jpg.rf.e710000bad85ff191afa76e9fd...</td>\n",
       "      <td>tumor</td>\n",
       "      <td>73</td>\n",
       "      <td>325</td>\n",
       "      <td>280</td>\n",
       "      <td>507</td>\n",
       "      <td>0.003858</td>\n",
       "    </tr>\n",
       "    <tr>\n",
       "      <th>3555</th>\n",
       "      <td>y490_jpg.rf.5efa7da099bbba1b48b2f97c07463c24.jpg</td>\n",
       "      <td>tumor</td>\n",
       "      <td>293</td>\n",
       "      <td>100</td>\n",
       "      <td>500</td>\n",
       "      <td>277</td>\n",
       "      <td>0.937380</td>\n",
       "    </tr>\n",
       "    <tr>\n",
       "      <th>945</th>\n",
       "      <td>Cancer-1562-_jpg.rf.732b2587bf2538e020846e32de...</td>\n",
       "      <td>tumor</td>\n",
       "      <td>387</td>\n",
       "      <td>278</td>\n",
       "      <td>521</td>\n",
       "      <td>403</td>\n",
       "      <td>0.891409</td>\n",
       "    </tr>\n",
       "    <tr>\n",
       "      <th>3787</th>\n",
       "      <td>Not-Cancer-1150-_jpg.rf.5523b453b163a35182cb9c...</td>\n",
       "      <td>normal</td>\n",
       "      <td>0</td>\n",
       "      <td>0</td>\n",
       "      <td>640</td>\n",
       "      <td>640</td>\n",
       "      <td>0.933751</td>\n",
       "    </tr>\n",
       "    <tr>\n",
       "      <th>...</th>\n",
       "      <td>...</td>\n",
       "      <td>...</td>\n",
       "      <td>...</td>\n",
       "      <td>...</td>\n",
       "      <td>...</td>\n",
       "      <td>...</td>\n",
       "      <td>...</td>\n",
       "    </tr>\n",
       "    <tr>\n",
       "      <th>5166</th>\n",
       "      <td>y88_jpg.rf.db57d0561b6f4a1ceee9f7fa470beb7a.jpg</td>\n",
       "      <td>tumor</td>\n",
       "      <td>78</td>\n",
       "      <td>294</td>\n",
       "      <td>351</td>\n",
       "      <td>568</td>\n",
       "      <td>0.582480</td>\n",
       "    </tr>\n",
       "    <tr>\n",
       "      <th>4695</th>\n",
       "      <td>y432_jpg.rf.2f4d1b8019906ed17fb6d1d94db74328.jpg</td>\n",
       "      <td>tumor</td>\n",
       "      <td>183</td>\n",
       "      <td>343</td>\n",
       "      <td>315</td>\n",
       "      <td>473</td>\n",
       "      <td>0.173577</td>\n",
       "    </tr>\n",
       "    <tr>\n",
       "      <th>5832</th>\n",
       "      <td>Not-Cancer-645-_jpg.rf.c8de15f23131375ed57f6cd...</td>\n",
       "      <td>normal</td>\n",
       "      <td>0</td>\n",
       "      <td>0</td>\n",
       "      <td>640</td>\n",
       "      <td>640</td>\n",
       "      <td>0.502748</td>\n",
       "    </tr>\n",
       "    <tr>\n",
       "      <th>333</th>\n",
       "      <td>y17_jpg.rf.b32160047f4e3e4d46593be3d6b240bb.jpg</td>\n",
       "      <td>tumor</td>\n",
       "      <td>205</td>\n",
       "      <td>107</td>\n",
       "      <td>463</td>\n",
       "      <td>323</td>\n",
       "      <td>0.411765</td>\n",
       "    </tr>\n",
       "    <tr>\n",
       "      <th>3598</th>\n",
       "      <td>Cancer-475-_jpg.rf.26c9765aba5940c2488f35a0c7d...</td>\n",
       "      <td>tumor</td>\n",
       "      <td>161</td>\n",
       "      <td>261</td>\n",
       "      <td>231</td>\n",
       "      <td>338</td>\n",
       "      <td>0.625733</td>\n",
       "    </tr>\n",
       "  </tbody>\n",
       "</table>\n",
       "<p>4000 rows × 7 columns</p>\n",
       "</div>"
      ],
      "text/plain": [
       "                                             image_name   label  xmin  ymin  \\\n",
       "1424  Cancer-588-_jpg.rf.61a7d8d8c55e5af4b9349577f0e...   tumor   199   244   \n",
       "2077  Cancer-1464-_jpg.rf.e710000bad85ff191afa76e9fd...   tumor    73   325   \n",
       "3555   y490_jpg.rf.5efa7da099bbba1b48b2f97c07463c24.jpg   tumor   293   100   \n",
       "945   Cancer-1562-_jpg.rf.732b2587bf2538e020846e32de...   tumor   387   278   \n",
       "3787  Not-Cancer-1150-_jpg.rf.5523b453b163a35182cb9c...  normal     0     0   \n",
       "...                                                 ...     ...   ...   ...   \n",
       "5166    y88_jpg.rf.db57d0561b6f4a1ceee9f7fa470beb7a.jpg   tumor    78   294   \n",
       "4695   y432_jpg.rf.2f4d1b8019906ed17fb6d1d94db74328.jpg   tumor   183   343   \n",
       "5832  Not-Cancer-645-_jpg.rf.c8de15f23131375ed57f6cd...  normal     0     0   \n",
       "333     y17_jpg.rf.b32160047f4e3e4d46593be3d6b240bb.jpg   tumor   205   107   \n",
       "3598  Cancer-475-_jpg.rf.26c9765aba5940c2488f35a0c7d...   tumor   161   261   \n",
       "\n",
       "      xmax  ymax  confidence  \n",
       "1424   289   339    0.084638  \n",
       "2077   280   507    0.003858  \n",
       "3555   500   277    0.937380  \n",
       "945    521   403    0.891409  \n",
       "3787   640   640    0.933751  \n",
       "...    ...   ...         ...  \n",
       "5166   351   568    0.582480  \n",
       "4695   315   473    0.173577  \n",
       "5832   640   640    0.502748  \n",
       "333    463   323    0.411765  \n",
       "3598   231   338    0.625733  \n",
       "\n",
       "[4000 rows x 7 columns]"
      ]
     },
     "execution_count": 12,
     "metadata": {},
     "output_type": "execute_result"
    }
   ],
   "source": [
    "train_df = df.iloc[:4000]\n",
    "train_df"
   ]
  },
  {
   "cell_type": "code",
   "execution_count": 13,
   "id": "781e0d7e",
   "metadata": {},
   "outputs": [
    {
     "data": {
      "text/html": [
       "<div>\n",
       "<style scoped>\n",
       "    .dataframe tbody tr th:only-of-type {\n",
       "        vertical-align: middle;\n",
       "    }\n",
       "\n",
       "    .dataframe tbody tr th {\n",
       "        vertical-align: top;\n",
       "    }\n",
       "\n",
       "    .dataframe thead th {\n",
       "        text-align: right;\n",
       "    }\n",
       "</style>\n",
       "<table border=\"1\" class=\"dataframe\">\n",
       "  <thead>\n",
       "    <tr style=\"text-align: right;\">\n",
       "      <th></th>\n",
       "      <th>image_name</th>\n",
       "      <th>label</th>\n",
       "      <th>xmin</th>\n",
       "      <th>ymin</th>\n",
       "      <th>xmax</th>\n",
       "      <th>ymax</th>\n",
       "      <th>confidence</th>\n",
       "    </tr>\n",
       "  </thead>\n",
       "  <tbody>\n",
       "    <tr>\n",
       "      <th>5243</th>\n",
       "      <td>Not-Cancer-840-_jpg.rf.c9459940a7f0926bcb69396...</td>\n",
       "      <td>normal</td>\n",
       "      <td>0</td>\n",
       "      <td>0</td>\n",
       "      <td>640</td>\n",
       "      <td>640</td>\n",
       "      <td>0.621680</td>\n",
       "    </tr>\n",
       "    <tr>\n",
       "      <th>3456</th>\n",
       "      <td>Cancer-1878-_jpg.rf.ba9c903d268970a7cc7ef44c35...</td>\n",
       "      <td>tumor</td>\n",
       "      <td>335</td>\n",
       "      <td>134</td>\n",
       "      <td>582</td>\n",
       "      <td>398</td>\n",
       "      <td>0.286610</td>\n",
       "    </tr>\n",
       "    <tr>\n",
       "      <th>1547</th>\n",
       "      <td>Not-Cancer-1222-_jpg.rf.7401d967dba8bcd80e9a71...</td>\n",
       "      <td>normal</td>\n",
       "      <td>0</td>\n",
       "      <td>0</td>\n",
       "      <td>640</td>\n",
       "      <td>640</td>\n",
       "      <td>0.610396</td>\n",
       "    </tr>\n",
       "    <tr>\n",
       "      <th>713</th>\n",
       "      <td>Cancer-96-_jpg.rf.5b060dd230c62c66f32b3f33b7f1...</td>\n",
       "      <td>tumor</td>\n",
       "      <td>241</td>\n",
       "      <td>291</td>\n",
       "      <td>326</td>\n",
       "      <td>353</td>\n",
       "      <td>0.988793</td>\n",
       "    </tr>\n",
       "    <tr>\n",
       "      <th>3356</th>\n",
       "      <td>Not-Cancer-2062-_jpg.rf.4a9083d1eba38d4d81eff1...</td>\n",
       "      <td>normal</td>\n",
       "      <td>0</td>\n",
       "      <td>0</td>\n",
       "      <td>640</td>\n",
       "      <td>640</td>\n",
       "      <td>0.115515</td>\n",
       "    </tr>\n",
       "    <tr>\n",
       "      <th>...</th>\n",
       "      <td>...</td>\n",
       "      <td>...</td>\n",
       "      <td>...</td>\n",
       "      <td>...</td>\n",
       "      <td>...</td>\n",
       "      <td>...</td>\n",
       "      <td>...</td>\n",
       "    </tr>\n",
       "    <tr>\n",
       "      <th>1210</th>\n",
       "      <td>Cancer-277-_jpg.rf.20a6350d1d2980d7c56e5488361...</td>\n",
       "      <td>tumor</td>\n",
       "      <td>276</td>\n",
       "      <td>262</td>\n",
       "      <td>367</td>\n",
       "      <td>330</td>\n",
       "      <td>0.162630</td>\n",
       "    </tr>\n",
       "    <tr>\n",
       "      <th>5571</th>\n",
       "      <td>Not-Cancer-1671-_jpg.rf.ca3dcb2115a4252ee7c925...</td>\n",
       "      <td>normal</td>\n",
       "      <td>0</td>\n",
       "      <td>0</td>\n",
       "      <td>640</td>\n",
       "      <td>640</td>\n",
       "      <td>0.095558</td>\n",
       "    </tr>\n",
       "    <tr>\n",
       "      <th>3715</th>\n",
       "      <td>y253_jpg.rf.41db19d22c89e84128d248bd6facb709.jpg</td>\n",
       "      <td>tumor</td>\n",
       "      <td>323</td>\n",
       "      <td>259</td>\n",
       "      <td>518</td>\n",
       "      <td>527</td>\n",
       "      <td>0.253680</td>\n",
       "    </tr>\n",
       "    <tr>\n",
       "      <th>4822</th>\n",
       "      <td>Cancer-1642-_jpg.rf.167cfcb624e6e43f3f85617684...</td>\n",
       "      <td>tumor</td>\n",
       "      <td>115</td>\n",
       "      <td>229</td>\n",
       "      <td>255</td>\n",
       "      <td>339</td>\n",
       "      <td>0.635797</td>\n",
       "    </tr>\n",
       "    <tr>\n",
       "      <th>3705</th>\n",
       "      <td>Not-Cancer-1074-_jpg.rf.feed7a533d7c599bc60de4...</td>\n",
       "      <td>normal</td>\n",
       "      <td>0</td>\n",
       "      <td>0</td>\n",
       "      <td>640</td>\n",
       "      <td>640</td>\n",
       "      <td>0.921175</td>\n",
       "    </tr>\n",
       "  </tbody>\n",
       "</table>\n",
       "<p>1870 rows × 7 columns</p>\n",
       "</div>"
      ],
      "text/plain": [
       "                                             image_name   label  xmin  ymin  \\\n",
       "5243  Not-Cancer-840-_jpg.rf.c9459940a7f0926bcb69396...  normal     0     0   \n",
       "3456  Cancer-1878-_jpg.rf.ba9c903d268970a7cc7ef44c35...   tumor   335   134   \n",
       "1547  Not-Cancer-1222-_jpg.rf.7401d967dba8bcd80e9a71...  normal     0     0   \n",
       "713   Cancer-96-_jpg.rf.5b060dd230c62c66f32b3f33b7f1...   tumor   241   291   \n",
       "3356  Not-Cancer-2062-_jpg.rf.4a9083d1eba38d4d81eff1...  normal     0     0   \n",
       "...                                                 ...     ...   ...   ...   \n",
       "1210  Cancer-277-_jpg.rf.20a6350d1d2980d7c56e5488361...   tumor   276   262   \n",
       "5571  Not-Cancer-1671-_jpg.rf.ca3dcb2115a4252ee7c925...  normal     0     0   \n",
       "3715   y253_jpg.rf.41db19d22c89e84128d248bd6facb709.jpg   tumor   323   259   \n",
       "4822  Cancer-1642-_jpg.rf.167cfcb624e6e43f3f85617684...   tumor   115   229   \n",
       "3705  Not-Cancer-1074-_jpg.rf.feed7a533d7c599bc60de4...  normal     0     0   \n",
       "\n",
       "      xmax  ymax  confidence  \n",
       "5243   640   640    0.621680  \n",
       "3456   582   398    0.286610  \n",
       "1547   640   640    0.610396  \n",
       "713    326   353    0.988793  \n",
       "3356   640   640    0.115515  \n",
       "...    ...   ...         ...  \n",
       "1210   367   330    0.162630  \n",
       "5571   640   640    0.095558  \n",
       "3715   518   527    0.253680  \n",
       "4822   255   339    0.635797  \n",
       "3705   640   640    0.921175  \n",
       "\n",
       "[1870 rows x 7 columns]"
      ]
     },
     "execution_count": 13,
     "metadata": {},
     "output_type": "execute_result"
    }
   ],
   "source": [
    "val_df = df.iloc[4000:]\n",
    "val_df"
   ]
  },
  {
   "cell_type": "code",
   "execution_count": 14,
   "id": "524338a9",
   "metadata": {},
   "outputs": [
    {
     "name": "stderr",
     "output_type": "stream",
     "text": [
      "100%|███████████████████████████████████████████████████████████████████████████████████████████████████████████████████████████████████| 4000/4000 [00:09<00:00, 402.56it/s]\n"
     ]
    }
   ],
   "source": [
    "for image_name in tqdm(train_df.image_name.to_list()):\n",
    "    os.system(f'cp data/brain_tumor_dataset/train/{image_name} data/brain_tumor_coco/images/train/')"
   ]
  },
  {
   "cell_type": "code",
   "execution_count": 15,
   "id": "d03af7ed",
   "metadata": {},
   "outputs": [
    {
     "name": "stderr",
     "output_type": "stream",
     "text": [
      "100%|███████████████████████████████████████████████████████████████████████████████████████████████████████████████████████████████████| 1870/1870 [00:04<00:00, 401.15it/s]\n"
     ]
    }
   ],
   "source": [
    "for image_name in tqdm(val_df.image_name.to_list()):\n",
    "    os.system(f'cp data/brain_tumor_dataset/train/{image_name} data/brain_tumor_coco/images/val/')"
   ]
  },
  {
   "cell_type": "markdown",
   "id": "d273b728",
   "metadata": {},
   "source": [
    "# 2. Chuẩn bị label"
   ]
  },
  {
   "cell_type": "code",
   "execution_count": 16,
   "id": "65481f1a",
   "metadata": {},
   "outputs": [
    {
     "data": {
      "text/html": [
       "<div>\n",
       "<style scoped>\n",
       "    .dataframe tbody tr th:only-of-type {\n",
       "        vertical-align: middle;\n",
       "    }\n",
       "\n",
       "    .dataframe tbody tr th {\n",
       "        vertical-align: top;\n",
       "    }\n",
       "\n",
       "    .dataframe thead th {\n",
       "        text-align: right;\n",
       "    }\n",
       "</style>\n",
       "<table border=\"1\" class=\"dataframe\">\n",
       "  <thead>\n",
       "    <tr style=\"text-align: right;\">\n",
       "      <th></th>\n",
       "      <th>image_name</th>\n",
       "      <th>label</th>\n",
       "      <th>xmin</th>\n",
       "      <th>ymin</th>\n",
       "      <th>xmax</th>\n",
       "      <th>ymax</th>\n",
       "    </tr>\n",
       "  </thead>\n",
       "  <tbody>\n",
       "    <tr>\n",
       "      <th>1424</th>\n",
       "      <td>Cancer-588-_jpg.rf.61a7d8d8c55e5af4b9349577f0e...</td>\n",
       "      <td>tumor</td>\n",
       "      <td>199</td>\n",
       "      <td>244</td>\n",
       "      <td>289</td>\n",
       "      <td>339</td>\n",
       "    </tr>\n",
       "    <tr>\n",
       "      <th>2077</th>\n",
       "      <td>Cancer-1464-_jpg.rf.e710000bad85ff191afa76e9fd...</td>\n",
       "      <td>tumor</td>\n",
       "      <td>73</td>\n",
       "      <td>325</td>\n",
       "      <td>280</td>\n",
       "      <td>507</td>\n",
       "    </tr>\n",
       "    <tr>\n",
       "      <th>3555</th>\n",
       "      <td>y490_jpg.rf.5efa7da099bbba1b48b2f97c07463c24.jpg</td>\n",
       "      <td>tumor</td>\n",
       "      <td>293</td>\n",
       "      <td>100</td>\n",
       "      <td>500</td>\n",
       "      <td>277</td>\n",
       "    </tr>\n",
       "    <tr>\n",
       "      <th>945</th>\n",
       "      <td>Cancer-1562-_jpg.rf.732b2587bf2538e020846e32de...</td>\n",
       "      <td>tumor</td>\n",
       "      <td>387</td>\n",
       "      <td>278</td>\n",
       "      <td>521</td>\n",
       "      <td>403</td>\n",
       "    </tr>\n",
       "    <tr>\n",
       "      <th>3787</th>\n",
       "      <td>Not-Cancer-1150-_jpg.rf.5523b453b163a35182cb9c...</td>\n",
       "      <td>normal</td>\n",
       "      <td>0</td>\n",
       "      <td>0</td>\n",
       "      <td>640</td>\n",
       "      <td>640</td>\n",
       "    </tr>\n",
       "    <tr>\n",
       "      <th>...</th>\n",
       "      <td>...</td>\n",
       "      <td>...</td>\n",
       "      <td>...</td>\n",
       "      <td>...</td>\n",
       "      <td>...</td>\n",
       "      <td>...</td>\n",
       "    </tr>\n",
       "    <tr>\n",
       "      <th>5166</th>\n",
       "      <td>y88_jpg.rf.db57d0561b6f4a1ceee9f7fa470beb7a.jpg</td>\n",
       "      <td>tumor</td>\n",
       "      <td>78</td>\n",
       "      <td>294</td>\n",
       "      <td>351</td>\n",
       "      <td>568</td>\n",
       "    </tr>\n",
       "    <tr>\n",
       "      <th>4695</th>\n",
       "      <td>y432_jpg.rf.2f4d1b8019906ed17fb6d1d94db74328.jpg</td>\n",
       "      <td>tumor</td>\n",
       "      <td>183</td>\n",
       "      <td>343</td>\n",
       "      <td>315</td>\n",
       "      <td>473</td>\n",
       "    </tr>\n",
       "    <tr>\n",
       "      <th>5832</th>\n",
       "      <td>Not-Cancer-645-_jpg.rf.c8de15f23131375ed57f6cd...</td>\n",
       "      <td>normal</td>\n",
       "      <td>0</td>\n",
       "      <td>0</td>\n",
       "      <td>640</td>\n",
       "      <td>640</td>\n",
       "    </tr>\n",
       "    <tr>\n",
       "      <th>333</th>\n",
       "      <td>y17_jpg.rf.b32160047f4e3e4d46593be3d6b240bb.jpg</td>\n",
       "      <td>tumor</td>\n",
       "      <td>205</td>\n",
       "      <td>107</td>\n",
       "      <td>463</td>\n",
       "      <td>323</td>\n",
       "    </tr>\n",
       "    <tr>\n",
       "      <th>3598</th>\n",
       "      <td>Cancer-475-_jpg.rf.26c9765aba5940c2488f35a0c7d...</td>\n",
       "      <td>tumor</td>\n",
       "      <td>161</td>\n",
       "      <td>261</td>\n",
       "      <td>231</td>\n",
       "      <td>338</td>\n",
       "    </tr>\n",
       "  </tbody>\n",
       "</table>\n",
       "<p>4000 rows × 6 columns</p>\n",
       "</div>"
      ],
      "text/plain": [
       "                                             image_name   label  xmin  ymin  \\\n",
       "1424  Cancer-588-_jpg.rf.61a7d8d8c55e5af4b9349577f0e...   tumor   199   244   \n",
       "2077  Cancer-1464-_jpg.rf.e710000bad85ff191afa76e9fd...   tumor    73   325   \n",
       "3555   y490_jpg.rf.5efa7da099bbba1b48b2f97c07463c24.jpg   tumor   293   100   \n",
       "945   Cancer-1562-_jpg.rf.732b2587bf2538e020846e32de...   tumor   387   278   \n",
       "3787  Not-Cancer-1150-_jpg.rf.5523b453b163a35182cb9c...  normal     0     0   \n",
       "...                                                 ...     ...   ...   ...   \n",
       "5166    y88_jpg.rf.db57d0561b6f4a1ceee9f7fa470beb7a.jpg   tumor    78   294   \n",
       "4695   y432_jpg.rf.2f4d1b8019906ed17fb6d1d94db74328.jpg   tumor   183   343   \n",
       "5832  Not-Cancer-645-_jpg.rf.c8de15f23131375ed57f6cd...  normal     0     0   \n",
       "333     y17_jpg.rf.b32160047f4e3e4d46593be3d6b240bb.jpg   tumor   205   107   \n",
       "3598  Cancer-475-_jpg.rf.26c9765aba5940c2488f35a0c7d...   tumor   161   261   \n",
       "\n",
       "      xmax  ymax  \n",
       "1424   289   339  \n",
       "2077   280   507  \n",
       "3555   500   277  \n",
       "945    521   403  \n",
       "3787   640   640  \n",
       "...    ...   ...  \n",
       "5166   351   568  \n",
       "4695   315   473  \n",
       "5832   640   640  \n",
       "333    463   323  \n",
       "3598   231   338  \n",
       "\n",
       "[4000 rows x 6 columns]"
      ]
     },
     "execution_count": 16,
     "metadata": {},
     "output_type": "execute_result"
    }
   ],
   "source": [
    "train_df[['image_name', 'label', 'xmin', 'ymin', 'xmax', 'ymax']]"
   ]
  },
  {
   "cell_type": "code",
   "execution_count": 17,
   "id": "ae0bb4db",
   "metadata": {},
   "outputs": [
    {
     "data": {
      "text/plain": [
       "['58 0.389578 0.416103 0.0385937 0.163146\\n',\n",
       " '62 0.127641 0.505153 0.233312 0.2227\\n',\n",
       " '62 0.934195 0.583462 0.127109 0.184812\\n',\n",
       " '56 0.604656 0.632547 0.0875 0.241385\\n',\n",
       " '56 0.502508 0.627324 0.0966094 0.231174\\n',\n",
       " '56 0.669195 0.618991 0.0471406 0.190986\\n',\n",
       " '56 0.512797 0.528251 0.0337187 0.0272066\\n',\n",
       " '0 0.686445 0.53196 0.0828906 0.323967\\n',\n",
       " '0 0.612484 0.446197 0.023625 0.0838967\\n',\n",
       " '68 0.811859 0.501725 0.0230312 0.0374883\\n',\n",
       " '72 0.78632 0.536373 0.0317031 0.254249\\n',\n",
       " '73 0.956156 0.771702 0.0224062 0.1073\\n',\n",
       " '73 0.96825 0.778075 0.020125 0.109014\\n',\n",
       " '74 0.710555 0.31 0.0218281 0.0513615\\n',\n",
       " '75 0.886562 0.831608 0.0573125 0.210493\\n',\n",
       " '75 0.556945 0.516702 0.0177656 0.0529343\\n',\n",
       " '56 0.651664 0.528826 0.0150469 0.0293897\\n',\n",
       " '75 0.388047 0.478415 0.0222188 0.041385\\n',\n",
       " '75 0.533836 0.487946 0.0152031 0.0392723\\n',\n",
       " '60 0.599984 0.647148 0.196188 0.208756\\n']"
      ]
     },
     "execution_count": 17,
     "metadata": {},
     "output_type": "execute_result"
    }
   ],
   "source": [
    "with open('yolov5/data/datasets/coco/labels/val2017/000000000139.txt', 'r') as file:\n",
    "    lines = file.readlines()\n",
    "\n",
    "# Format: object_index - x_center - y_center - width - height\n",
    "lines"
   ]
  },
  {
   "cell_type": "code",
   "execution_count": 18,
   "id": "589edc2d",
   "metadata": {},
   "outputs": [],
   "source": [
    "def prepare_label_txt(image_name, label, x1, y1, x2, y2, dataset_name):\n",
    "    img = Image.open(f'data/brain_tumor_dataset/train/{image_name}')\n",
    "    img_w, img_h = img.size[0], img.size[1]\n",
    "    # Convert from Absolute bounding box to Relative bounding box\n",
    "    x = (x1 + x2) / 2 / img_w\n",
    "    y = (y1 + y2) / 2 / img_h\n",
    "    w = (x2 - x1) / img_w\n",
    "    h = (y2 - y1) / img_h\n",
    "    image_name = image_name.replace('.jpg', '.txt')\n",
    "    with open(f'data/brain_tumor_coco/labels/{dataset_name}/{image_name}', 'w') as file:\n",
    "        if label == 'tumor':\n",
    "            file.write(f'0 {x} {y} {w} {h}')\n",
    "        else:\n",
    "            pass"
   ]
  },
  {
   "cell_type": "code",
   "execution_count": 19,
   "id": "73e4a3ae",
   "metadata": {},
   "outputs": [
    {
     "name": "stderr",
     "output_type": "stream",
     "text": [
      "4000it [00:01, 3161.35it/s]\n"
     ]
    }
   ],
   "source": [
    "for _, row in tqdm(train_df.iterrows()):\n",
    "    prepare_label_txt(\n",
    "        row.image_name, row.label, row.xmin, row.ymin, row.xmax, row.ymax, 'train'\n",
    "    )"
   ]
  },
  {
   "cell_type": "code",
   "execution_count": 20,
   "id": "466128ae",
   "metadata": {},
   "outputs": [
    {
     "name": "stderr",
     "output_type": "stream",
     "text": [
      "1870it [00:00, 4277.02it/s]\n"
     ]
    }
   ],
   "source": [
    "for _, row in tqdm(val_df.iterrows()):\n",
    "    prepare_label_txt(\n",
    "        row.image_name, row.label, row.xmin, row.ymin, row.xmax, row.ymax, 'val'\n",
    "    )"
   ]
  },
  {
   "cell_type": "code",
   "execution_count": 21,
   "id": "4a25e981",
   "metadata": {},
   "outputs": [
    {
     "data": {
      "text/plain": [
       "[]"
      ]
     },
     "execution_count": 21,
     "metadata": {},
     "output_type": "execute_result"
    }
   ],
   "source": [
    "sample_name = os.listdir('data/brain_tumor_coco/labels/val/')[0]\n",
    "with open(f'data/brain_tumor_coco/labels/val/{sample_name}', 'r') as file:\n",
    "    lines = file.readlines()\n",
    "lines"
   ]
  },
  {
   "cell_type": "markdown",
   "id": "bf6bf5f0",
   "metadata": {},
   "source": [
    "# 3. Chuẩn bị file txt đường dẫn"
   ]
  },
  {
   "cell_type": "code",
   "execution_count": 22,
   "id": "7bbe4adb",
   "metadata": {},
   "outputs": [],
   "source": [
    "def create_txt_path_file(root_path, dataset_name):\n",
    "    file_path_list = glob(os.path.join(root_path, dataset_name, '*'))\n",
    "    file_path_list = [path.replace('data/brain_tumor_coco', '.') + '\\n' for path in file_path_list]\n",
    "    with open(f'data/brain_tumor_coco/{dataset_name}.txt', 'w') as file:\n",
    "        file.writelines(file_path_list)"
   ]
  },
  {
   "cell_type": "code",
   "execution_count": 23,
   "id": "7ee4600a",
   "metadata": {},
   "outputs": [],
   "source": [
    "create_txt_path_file('data/brain_tumor_coco/images/', 'val')"
   ]
  },
  {
   "cell_type": "code",
   "execution_count": 24,
   "id": "c7981857",
   "metadata": {},
   "outputs": [],
   "source": [
    "create_txt_path_file('data/brain_tumor_coco/images/', 'train')"
   ]
  },
  {
   "cell_type": "code",
   "execution_count": 25,
   "id": "3db8df59",
   "metadata": {},
   "outputs": [],
   "source": [
    "create_txt_path_file('data/brain_tumor_coco/images/', 'test')"
   ]
  },
  {
   "cell_type": "code",
   "execution_count": 26,
   "id": "cd6a0318",
   "metadata": {},
   "outputs": [
    {
     "data": {
      "text/plain": [
       "['./images/val2017/000000182611.jpg\\n',\n",
       " './images/val2017/000000335177.jpg\\n',\n",
       " './images/val2017/000000278705.jpg\\n',\n",
       " './images/val2017/000000463618.jpg\\n',\n",
       " './images/val2017/000000568981.jpg\\n',\n",
       " './images/val2017/000000092416.jpg\\n',\n",
       " './images/val2017/000000173830.jpg\\n',\n",
       " './images/val2017/000000476215.jpg\\n',\n",
       " './images/val2017/000000479126.jpg\\n',\n",
       " './images/val2017/000000570664.jpg\\n']"
      ]
     },
     "execution_count": 26,
     "metadata": {},
     "output_type": "execute_result"
    }
   ],
   "source": [
    "with open('yolov5/data/datasets/coco/val2017.txt', 'r') as file:\n",
    "    lines = file.readlines()\n",
    "lines[:10]"
   ]
  },
  {
   "cell_type": "code",
   "execution_count": 27,
   "id": "3e8fd470",
   "metadata": {},
   "outputs": [
    {
     "data": {
      "text/plain": [
       "['./images/val/Not-Cancer-205-_jpg.rf.516a86e9b123d5e12000fe32483d2d26.jpg\\n',\n",
       " './images/val/y407_jpg.rf.1bd00e8baf5d468619b53f41b2a9c186.jpg\\n',\n",
       " './images/val/y484_jpg.rf.9d57b8fc06a357f5bc6cf3ea0d8daf91.jpg\\n',\n",
       " './images/val/Cancer-2312-_jpg.rf.f804e6eb31b1031ec4c0f2bde40a501f.jpg\\n',\n",
       " './images/val/Cancer-2145-_jpg.rf.2b64d345c78f026d6689e60433c9bbe0.jpg\\n',\n",
       " './images/val/Not-Cancer-1237-_jpg.rf.8acd14a63bf82096736be4d5ea02d893.jpg\\n',\n",
       " './images/val/y325_jpg.rf.f1632e12b65e77a403024cb818883bb2.jpg\\n',\n",
       " './images/val/y228_jpg.rf.c0eba23d52c9c8d43df1059b55eacf3c.jpg\\n',\n",
       " './images/val/Cancer-2192-_jpg.rf.19f5e179f2fd698ffe9daf71bd774857.jpg\\n',\n",
       " './images/val/Cancer-526-_jpg.rf.4f334b85e25c79129d9f624fd2033e55.jpg\\n']"
      ]
     },
     "execution_count": 27,
     "metadata": {},
     "output_type": "execute_result"
    }
   ],
   "source": [
    "with open('data/brain_tumor_coco/val.txt', 'r') as file:\n",
    "    lines = file.readlines()\n",
    "lines[:10]"
   ]
  },
  {
   "cell_type": "code",
   "execution_count": null,
   "id": "a063f2cc",
   "metadata": {},
   "outputs": [],
   "source": []
  }
 ],
 "metadata": {
  "kernelspec": {
   "display_name": "Python 3 (ipykernel)",
   "language": "python",
   "name": "python3"
  },
  "language_info": {
   "codemirror_mode": {
    "name": "ipython",
    "version": 3
   },
   "file_extension": ".py",
   "mimetype": "text/x-python",
   "name": "python",
   "nbconvert_exporter": "python",
   "pygments_lexer": "ipython3",
   "version": "3.9.6"
  }
 },
 "nbformat": 4,
 "nbformat_minor": 5
}
